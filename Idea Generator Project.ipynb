{
  "nbformat": 4,
  "nbformat_minor": 0,
  "metadata": {
    "colab": {
      "provenance": []
    },
    "kernelspec": {
      "name": "python3",
      "display_name": "Python 3"
    },
    "language_info": {
      "name": "python"
    }
  },
  "cells": [
    {
      "cell_type": "code",
      "execution_count": null,
      "metadata": {
        "colab": {
          "base_uri": "https://localhost:8080/",
          "height": 628
        },
        "id": "25sRGW9DkjSJ",
        "outputId": "736901e8-da05-4f16-b56b-4c979f60488b"
      },
      "outputs": [
        {
          "output_type": "stream",
          "name": "stderr",
          "text": [
            "Device set to use cpu\n"
          ]
        },
        {
          "output_type": "stream",
          "name": "stdout",
          "text": [
            "Colab notebook detected. To show errors in colab notebook, set debug=True in launch()\n",
            "* Running on public URL: https://78b646c496fe39178e.gradio.live\n",
            "\n",
            "This share link expires in 1 week. For free permanent hosting and GPU upgrades, run `gradio deploy` from the terminal in the working directory to deploy to Hugging Face Spaces (https://huggingface.co/spaces)\n"
          ]
        },
        {
          "output_type": "display_data",
          "data": {
            "text/plain": [
              "<IPython.core.display.HTML object>"
            ],
            "text/html": [
              "<div><iframe src=\"https://78b646c496fe39178e.gradio.live\" width=\"100%\" height=\"500\" allow=\"autoplay; camera; microphone; clipboard-read; clipboard-write;\" frameborder=\"0\" allowfullscreen></iframe></div>"
            ]
          },
          "metadata": {}
        },
        {
          "output_type": "execute_result",
          "data": {
            "text/plain": []
          },
          "metadata": {},
          "execution_count": 4
        }
      ],
      "source": [
        "# ========================\n",
        "# Cell 1: Install deps\n",
        "# ========================\n",
        "!pip install -q transformers gradio torch accelerate\n",
        "\n",
        "# ========================\n",
        "# Cell 2: Imports + Load model\n",
        "# ========================\n",
        "from transformers import pipeline\n",
        "import gradio as gr\n",
        "\n",
        "# Use a better instruction-tuned model\n",
        "generator = pipeline(\n",
        "    \"text2text-generation\",\n",
        "    model=\"MBZUAI/LaMini-Flan-T5-783M\",\n",
        "    device_map=\"auto\"\n",
        ")\n",
        "\n",
        "# ========================\n",
        "# Cell 3: Function\n",
        "# ========================\n",
        "def generate_idea(domain):\n",
        "    if not domain or not domain.strip():\n",
        "        return \"⚠️ Please provide a domain (e.g., Agritech, Fintech, EdTech).\"\n",
        "\n",
        "    prompt = f\"\"\"\n",
        "Generate a startup pitch for the domain: {domain}.\n",
        "Include the following sections:\n",
        "\n",
        "1) Business Idea (2–3 sentences)\n",
        "2) Problem Statement (explain the challenge clearly)\n",
        "3) Solution (explain how the startup solves it)\n",
        "\"\"\"\n",
        "\n",
        "    result = generator(\n",
        "        prompt,\n",
        "        max_new_tokens=400,\n",
        "        temperature=0.8,\n",
        "        do_sample=True,\n",
        "    )\n",
        "\n",
        "    return result[0][\"generated_text\"]\n",
        "\n",
        "# ========================\n",
        "# Cell 4: Gradio UI\n",
        "# ========================\n",
        "demo = gr.Interface(\n",
        "    fn=generate_idea,\n",
        "    inputs=gr.Textbox(label=\"Domain of Interest\", placeholder=\"e.g., Agritech\"),\n",
        "    outputs=\"text\",\n",
        "    title=\"🚀 Startup Idea + Pitch Generator\",\n",
        "    description=\"Enter a domain (Agritech, Fintech, EdTech, etc.) and get a startup pitch with Problem & Solution.\"\n",
        ")\n",
        "\n",
        "demo.launch(share=True)\n"
      ]
    },
    {
      "cell_type": "code",
      "source": [],
      "metadata": {
        "id": "5vVRvvWKVyRQ"
      },
      "execution_count": null,
      "outputs": []
    }
  ]
}